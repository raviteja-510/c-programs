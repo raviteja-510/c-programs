{
  "nbformat": 4,
  "nbformat_minor": 0,
  "metadata": {
    "colab": {
      "name": "Untitled1.ipynb",
      "provenance": [],
      "authorship_tag": "ABX9TyOkGr69EtBNzAohyT1HbAVe",
      "include_colab_link": true
    },
    "kernelspec": {
      "name": "python3",
      "display_name": "Python 3"
    },
    "language_info": {
      "name": "python"
    }
  },
  "cells": [
    {
      "cell_type": "markdown",
      "metadata": {
        "id": "view-in-github",
        "colab_type": "text"
      },
      "source": [
        "<a href=\"https://colab.research.google.com/github/raviteja-510/c-programs/blob/main/module31.ipynb\" target=\"_parent\"><img src=\"https://colab.research.google.com/assets/colab-badge.svg\" alt=\"Open In Colab\"/></a>"
      ]
    },
    {
      "cell_type": "code",
      "execution_count": 16,
      "metadata": {
        "colab": {
          "base_uri": "https://localhost:8080/"
        },
        "id": "mkDJZn9i5aFO",
        "outputId": "76e40279-c99b-4666-be19-9d35a40b1d39"
      },
      "outputs": [
        {
          "output_type": "stream",
          "name": "stdout",
          "text": [
            "('apple', 'orang')\n",
            "mango\n",
            "strawberry\n",
            "('apple', 'orang', 'pappaya')\n",
            "('apple', 'orang', 'pappaya', 'strawberry')\n",
            "('pappaya', 'strawberry', 'mango')\n"
          ]
        }
      ],
      "source": [
        "##writing list of fruits\n",
        "fruit=(\"apple\",\"orang\",\"pappaya\",\"strawberry\",\"mango\");\n",
        "print(fruit[0:2])\n",
        "print(fruit[4])\n",
        "print(fruit[-2])\n",
        "print(fruit[0:-2])\n",
        "print(fruit[:4])\n",
        "print(fruit[2:])"
      ]
    },
    {
      "cell_type": "code",
      "source": [
        "a=[1,2,3,4,5]\n",
        "b=[6,7,8,9,10]\n",
        "print(a[4])\n",
        "print(a[2]+a[3])\n",
        "print(a+b)\n"
      ],
      "metadata": {
        "colab": {
          "base_uri": "https://localhost:8080/"
        },
        "id": "12cpeXom--ao",
        "outputId": "8ba8a84b-b945-4834-90e5-c202d4dbd52a"
      },
      "execution_count": 21,
      "outputs": [
        {
          "output_type": "stream",
          "name": "stdout",
          "text": [
            "5\n",
            "7\n",
            "[1, 2, 3, 4, 5, 6, 7, 8, 9, 10]\n"
          ]
        }
      ]
    },
    {
      "cell_type": "code",
      "source": [
        "##writing list of fruits\n",
        "fruit=[\"apple\",\"orang\",\"pappaya\",\"strawberry\",\"mango\"]\n",
        "fruit.append(\"grapes\")\n",
        "print(fruit)\n",
        "fruit.insert(2,\"blueberry\")\n",
        "print(fruit)\n",
        "fruit.reverse()\n",
        "print(fruit)\n",
        "fruit.sort()\n",
        "print(fruit)\n",
        "print(len(fruit))\n",
        "fruit.pop()\n",
        "print(fruit)\n",
        "fruit.pop()\n",
        "print(fruit)\n",
        "n=fruit.copy()\n",
        "print(n)\n",
        "b.clear()\n",
        "print(n)\n",
        "\n"
      ],
      "metadata": {
        "colab": {
          "base_uri": "https://localhost:8080/"
        },
        "id": "Zr8lBMYQHpkx",
        "outputId": "42724a89-86f1-4e10-ba90-bd86bfcf8397"
      },
      "execution_count": 48,
      "outputs": [
        {
          "output_type": "stream",
          "name": "stdout",
          "text": [
            "['apple', 'orang', 'pappaya', 'strawberry', 'mango', 'grapes']\n",
            "['apple', 'orang', 'blueberry', 'pappaya', 'strawberry', 'mango', 'grapes']\n",
            "['grapes', 'mango', 'strawberry', 'pappaya', 'blueberry', 'orang', 'apple']\n",
            "['apple', 'blueberry', 'grapes', 'mango', 'orang', 'pappaya', 'strawberry']\n",
            "7\n",
            "['apple', 'blueberry', 'grapes', 'mango', 'orang', 'pappaya']\n",
            "['apple', 'blueberry', 'grapes', 'mango', 'orang']\n",
            "['apple', 'blueberry', 'grapes', 'mango', 'orang']\n",
            "['apple', 'blueberry', 'grapes', 'mango', 'orang']\n"
          ]
        }
      ]
    },
    {
      "cell_type": "code",
      "source": [
        "fruit=[\"apple\",\"orang\",\"pappaya\",\"strawberry\",\"mango\"]\n",
        "fruit.append(\"grapes\")\n",
        "print(fruit)\n",
        "fruit.insert(2,\"blueberry\")\n",
        "print(fruit)"
      ],
      "metadata": {
        "colab": {
          "base_uri": "https://localhost:8080/",
          "height": 235
        },
        "id": "V4N69JXSNMv5",
        "outputId": "f49205d7-0487-46bb-ee02-4210d7f1f46f"
      },
      "execution_count": 47,
      "outputs": [
        {
          "output_type": "stream",
          "name": "stdout",
          "text": [
            "['apple', 'orang', 'pappaya', 'strawberry', 'mango', 'grapes']\n"
          ]
        },
        {
          "output_type": "error",
          "ename": "TypeError",
          "evalue": "ignored",
          "traceback": [
            "\u001b[0;31m---------------------------------------------------------------------------\u001b[0m",
            "\u001b[0;31mTypeError\u001b[0m                                 Traceback (most recent call last)",
            "\u001b[0;32m<ipython-input-47-92aa98569618>\u001b[0m in \u001b[0;36m<module>\u001b[0;34m()\u001b[0m\n\u001b[1;32m      2\u001b[0m \u001b[0mfruit\u001b[0m\u001b[0;34m.\u001b[0m\u001b[0mappend\u001b[0m\u001b[0;34m(\u001b[0m\u001b[0;34m\"grapes\"\u001b[0m\u001b[0;34m)\u001b[0m\u001b[0;34m\u001b[0m\u001b[0;34m\u001b[0m\u001b[0m\n\u001b[1;32m      3\u001b[0m \u001b[0mprint\u001b[0m\u001b[0;34m(\u001b[0m\u001b[0mfruit\u001b[0m\u001b[0;34m)\u001b[0m\u001b[0;34m\u001b[0m\u001b[0;34m\u001b[0m\u001b[0m\n\u001b[0;32m----> 4\u001b[0;31m \u001b[0mfruit\u001b[0m\u001b[0;34m.\u001b[0m\u001b[0minsert\u001b[0m\u001b[0;34m(\u001b[0m\u001b[0;36m2\u001b[0m\u001b[0;34m,\u001b[0m\u001b[0;34m\"blueberry\"\u001b[0m\u001b[0;34m,\u001b[0m\u001b[0;36m3\u001b[0m\u001b[0;34m,\u001b[0m\u001b[0;34m\"kiwi\"\u001b[0m\u001b[0;34m)\u001b[0m\u001b[0;34m\u001b[0m\u001b[0;34m\u001b[0m\u001b[0m\n\u001b[0m\u001b[1;32m      5\u001b[0m \u001b[0mprint\u001b[0m\u001b[0;34m(\u001b[0m\u001b[0mfruit\u001b[0m\u001b[0;34m)\u001b[0m\u001b[0;34m\u001b[0m\u001b[0;34m\u001b[0m\u001b[0m\n",
            "\u001b[0;31mTypeError\u001b[0m: insert() takes exactly 2 arguments (4 given)"
          ]
        }
      ]
    }
  ]
}